{
 "cells": [
  {
   "cell_type": "code",
   "execution_count": null,
   "metadata": {},
   "outputs": [],
   "source": [
    "#| default_exp check"
   ]
  },
  {
   "cell_type": "code",
   "execution_count": null,
   "metadata": {},
   "outputs": [],
   "source": [
    "#| export \n",
    "\n",
    "import pyflakes.api, nbdev.config\n",
    "\n",
    "class AggressiveReporter:\n",
    "    def unexpectedError(self, filename, msg): raise Exception(f\"({filename}) Unexpected error: {msg}\")\n",
    "    def syntaxError(self, filename, msg, lineno, offset, text): raise Exception(f\"({filename}:{lineno}:{offset}) Syntax error: {msg} {text}\")\n",
    "    def flake(self, message): raise Exception(f\"{message}\")\n",
    "\n",
    "def check(): pyflakes.api.checkRecursive([nbdev.config.get_config().lib_path], AggressiveReporter())    "
   ]
  },
  {
   "cell_type": "code",
   "execution_count": null,
   "metadata": {},
   "outputs": [],
   "source": [
    "#| hide\n",
    "\n",
    "import nbdev\n",
    "from nbdev_gymnastics.check import check\n",
    "\n",
    "nbdev.nbdev_export()\n",
    "check()"
   ]
  }
 ],
 "metadata": {
  "kernelspec": {
   "display_name": "python3",
   "language": "python",
   "name": "python3"
  }
 },
 "nbformat": 4,
 "nbformat_minor": 2
}

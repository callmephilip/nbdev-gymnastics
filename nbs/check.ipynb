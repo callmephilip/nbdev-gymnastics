{
 "cells": [
  {
   "cell_type": "code",
   "execution_count": 1,
   "metadata": {},
   "outputs": [],
   "source": [
    "#| default_exp check"
   ]
  },
  {
   "cell_type": "code",
   "execution_count": 2,
   "metadata": {},
   "outputs": [],
   "source": [
    "#| export \n",
    "\n",
    "import pyflakes.api, nbdev.config\n",
    "\n",
    "class AggressiveReporter:\n",
    "    def unexpectedError(self, filename, msg): raise Exception(f\"({filename}) Unexpected error: {msg}\")\n",
    "    def syntaxError(self, filename, msg, lineno, offset, text): raise Exception(f\"({filename}:{lineno}:{offset}) Syntax error: {msg} {text}\")\n",
    "    def flake(self, message): raise Exception(f\"{message}\")\n",
    "\n",
    "def check(): pyflakes.api.checkRecursive([nbdev.config.get_config().lib_path], AggressiveReporter())    "
   ]
  },
  {
   "cell_type": "code",
   "execution_count": 1,
   "metadata": {},
   "outputs": [],
   "source": [
    "#| hide\n",
    "\n",
    "import nbdev\n",
    "from nbdev_gymnastics.check import check\n",
    "\n",
    "nbdev.nbdev_export()\n",
    "check()"
   ]
  }
 ],
 "metadata": {
  "kernelspec": {
   "display_name": "venv",
   "language": "python",
   "name": "python3"
  },
  "language_info": {
   "codemirror_mode": {
    "name": "ipython",
    "version": 3
   },
   "file_extension": ".py",
   "mimetype": "text/x-python",
   "name": "python",
   "nbconvert_exporter": "python",
   "pygments_lexer": "ipython3",
   "version": "3.10.9"
  }
 },
 "nbformat": 4,
 "nbformat_minor": 2
}
